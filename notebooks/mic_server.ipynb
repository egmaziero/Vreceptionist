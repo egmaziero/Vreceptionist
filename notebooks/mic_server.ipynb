{
 "cells": [
  {
   "cell_type": "code",
   "execution_count": null,
   "metadata": {},
   "outputs": [
    {
     "name": "stdout",
     "output_type": "stream",
     "text": [
      "recording...\n",
      "Connection from ('127.0.0.1', 50224)\n"
     ]
    }
   ],
   "source": [
    "import pyaudio\n",
    "import socket\n",
    "import select\n",
    "\n",
    "FORMAT = pyaudio.paInt16\n",
    "CHANNELS = 1\n",
    "RATE = 44100\n",
    "CHUNK = 4096\n",
    "\n",
    "audio = pyaudio.PyAudio()\n",
    "\n",
    "serversocket = socket.socket(socket.AF_INET, socket.SOCK_STREAM)\n",
    "serversocket.bind(('', 4444))\n",
    "serversocket.listen(5)\n",
    "\n",
    "\n",
    "def callback(in_data, frame_count, time_info, status):\n",
    "    for s in read_list[1:]:\n",
    "        s.send(in_data)\n",
    "    return (None, pyaudio.paContinue)\n",
    "\n",
    "\n",
    "# start Recording\n",
    "stream = audio.open(format=FORMAT, channels=CHANNELS, rate=RATE, input=True, frames_per_buffer=CHUNK, stream_callback=callback)\n",
    "stream.start_stream()\n",
    "\n",
    "read_list = [serversocket]\n",
    "print(\"recording...\")\n",
    "\n",
    "try:\n",
    "    while True:\n",
    "        readable, writable, errored = select.select(read_list, [], [])\n",
    "        for s in readable:\n",
    "            if s is serversocket:\n",
    "                (clientsocket, address) = serversocket.accept()\n",
    "                read_list.append(clientsocket)\n",
    "                print(\"Connection from\", address)\n",
    "            else:\n",
    "                data = s.recv(1024)\n",
    "                if not data:\n",
    "                    read_list.remove(s)\n",
    "except KeyboardInterrupt:\n",
    "    pass\n",
    "\n",
    "\n",
    "print(\"finished recording\")\n",
    "\n",
    "serversocket.close()\n",
    "# stop Recording\n",
    "stream.stop_stream()\n",
    "stream.close()\n",
    "audio.terminate()"
   ]
  },
  {
   "cell_type": "code",
   "execution_count": null,
   "metadata": {},
   "outputs": [],
   "source": []
  }
 ],
 "metadata": {
  "kernelspec": {
   "display_name": "Python 3",
   "language": "python",
   "name": "python3"
  },
  "language_info": {
   "codemirror_mode": {
    "name": "ipython",
    "version": 3
   },
   "file_extension": ".py",
   "mimetype": "text/x-python",
   "name": "python",
   "nbconvert_exporter": "python",
   "pygments_lexer": "ipython3",
   "version": "3.6.8"
  }
 },
 "nbformat": 4,
 "nbformat_minor": 2
}
